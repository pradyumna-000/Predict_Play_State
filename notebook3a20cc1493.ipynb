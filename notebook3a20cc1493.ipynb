{
 "cells": [
  {
   "cell_type": "code",
   "execution_count": 1,
   "id": "f7687656",
   "metadata": {
    "execution": {
     "iopub.execute_input": "2025-03-23T18:46:33.632361Z",
     "iopub.status.busy": "2025-03-23T18:46:33.631869Z",
     "iopub.status.idle": "2025-03-23T18:46:36.367732Z",
     "shell.execute_reply": "2025-03-23T18:46:36.366825Z"
    },
    "papermill": {
     "duration": 2.742809,
     "end_time": "2025-03-23T18:46:36.369749",
     "exception": false,
     "start_time": "2025-03-23T18:46:33.626940",
     "status": "completed"
    },
    "tags": []
   },
   "outputs": [],
   "source": [
    "import pandas as pd\n",
    "import numpy as np\n",
    "from sklearn.linear_model import LogisticRegression\n",
    "from sklearn.preprocessing import OneHotEncoder, StandardScaler\n",
    "from sklearn.impute import SimpleImputer\n",
    "from sklearn.compose import ColumnTransformer\n",
    "from sklearn.pipeline import Pipeline\n",
    "from sklearn.model_selection import train_test_split\n",
    "from sklearn.metrics import accuracy_score"
   ]
  },
  {
   "cell_type": "code",
   "execution_count": 2,
   "id": "3267fe08",
   "metadata": {
    "execution": {
     "iopub.execute_input": "2025-03-23T18:46:36.378031Z",
     "iopub.status.busy": "2025-03-23T18:46:36.377495Z",
     "iopub.status.idle": "2025-03-23T18:46:36.446102Z",
     "shell.execute_reply": "2025-03-23T18:46:36.444972Z"
    },
    "papermill": {
     "duration": 0.074673,
     "end_time": "2025-03-23T18:46:36.448107",
     "exception": false,
     "start_time": "2025-03-23T18:46:36.373434",
     "status": "completed"
    },
    "tags": []
   },
   "outputs": [],
   "source": [
    "train_data = pd.read_csv('/kaggle/input/play-station-plus-subscription-prediction/Dataset/train.csv')\n",
    "test_data = pd.read_csv('/kaggle/input/play-station-plus-subscription-prediction/Dataset/test.csv')"
   ]
  },
  {
   "cell_type": "code",
   "execution_count": 3,
   "id": "427b5a48",
   "metadata": {
    "execution": {
     "iopub.execute_input": "2025-03-23T18:46:36.455775Z",
     "iopub.status.busy": "2025-03-23T18:46:36.455354Z",
     "iopub.status.idle": "2025-03-23T18:46:36.471161Z",
     "shell.execute_reply": "2025-03-23T18:46:36.470167Z"
    },
    "papermill": {
     "duration": 0.021484,
     "end_time": "2025-03-23T18:46:36.472928",
     "exception": false,
     "start_time": "2025-03-23T18:46:36.451444",
     "status": "completed"
    },
    "tags": []
   },
   "outputs": [],
   "source": [
    "User_ID = test_data['User_ID'].copy()\n",
    "test_data = test_data.drop('User_ID', axis=1)\n",
    "train_data = train_data.drop('User_ID', axis=1)"
   ]
  },
  {
   "cell_type": "code",
   "execution_count": 4,
   "id": "eb14a733",
   "metadata": {
    "execution": {
     "iopub.execute_input": "2025-03-23T18:46:36.480801Z",
     "iopub.status.busy": "2025-03-23T18:46:36.480387Z",
     "iopub.status.idle": "2025-03-23T18:46:36.493274Z",
     "shell.execute_reply": "2025-03-23T18:46:36.492072Z"
    },
    "papermill": {
     "duration": 0.019182,
     "end_time": "2025-03-23T18:46:36.495324",
     "exception": false,
     "start_time": "2025-03-23T18:46:36.476142",
     "status": "completed"
    },
    "tags": []
   },
   "outputs": [],
   "source": [
    "train_data['Engagement_Score'] = train_data['PS_Plus_Subscription_Duration'] / (train_data['Last_Played_Days_Ago'] + 1)\n",
    "test_data['Engagement_Score'] = test_data['PS_Plus_Subscription_Duration'] / (test_data['Last_Played_Days_Ago'] + 1)\n",
    "\n",
    "train_data['Value_Perception'] = train_data['Average_Monthly_Spending'] / (train_data['PS_Plus_Subscription_Duration'] + 1)\n",
    "test_data['Value_Perception'] = test_data['Average_Monthly_Spending'] / (test_data['PS_Plus_Subscription_Duration'] + 1)\n",
    "\n",
    "train_data['Satisfaction_Support_Ratio'] = train_data['User_Satisfaction_Rating'].fillna(train_data['User_Satisfaction_Rating'].median()) / (train_data['Support_Requests'] + 1)\n",
    "test_data['Satisfaction_Support_Ratio'] = test_data['User_Satisfaction_Rating'].fillna(test_data['User_Satisfaction_Rating'].median()) / (test_data['Support_Requests'] + 1)"
   ]
  },
  {
   "cell_type": "code",
   "execution_count": 5,
   "id": "a76a3399",
   "metadata": {
    "execution": {
     "iopub.execute_input": "2025-03-23T18:46:36.503145Z",
     "iopub.status.busy": "2025-03-23T18:46:36.502761Z",
     "iopub.status.idle": "2025-03-23T18:46:36.509913Z",
     "shell.execute_reply": "2025-03-23T18:46:36.508922Z"
    },
    "papermill": {
     "duration": 0.013178,
     "end_time": "2025-03-23T18:46:36.511775",
     "exception": false,
     "start_time": "2025-03-23T18:46:36.498597",
     "status": "completed"
    },
    "tags": []
   },
   "outputs": [],
   "source": [
    "train_data = train_data.drop(columns=['User_Age', 'User_Gender', 'User_Region'])\n",
    "test_data = test_data.drop(columns=['User_Age', 'User_Gender', 'User_Region'])"
   ]
  },
  {
   "cell_type": "code",
   "execution_count": 6,
   "id": "b24473bf",
   "metadata": {
    "execution": {
     "iopub.execute_input": "2025-03-23T18:46:36.519537Z",
     "iopub.status.busy": "2025-03-23T18:46:36.519146Z",
     "iopub.status.idle": "2025-03-23T18:46:36.526825Z",
     "shell.execute_reply": "2025-03-23T18:46:36.525742Z"
    },
    "papermill": {
     "duration": 0.013591,
     "end_time": "2025-03-23T18:46:36.528702",
     "exception": false,
     "start_time": "2025-03-23T18:46:36.515111",
     "status": "completed"
    },
    "tags": []
   },
   "outputs": [],
   "source": [
    "X = train_data.drop(columns=['Subscription_Canceled'])\n",
    "Y = train_data['Subscription_Canceled']"
   ]
  },
  {
   "cell_type": "code",
   "execution_count": 7,
   "id": "569e7c2c",
   "metadata": {
    "execution": {
     "iopub.execute_input": "2025-03-23T18:46:36.536558Z",
     "iopub.status.busy": "2025-03-23T18:46:36.536139Z",
     "iopub.status.idle": "2025-03-23T18:46:36.550533Z",
     "shell.execute_reply": "2025-03-23T18:46:36.548933Z"
    },
    "papermill": {
     "duration": 0.020618,
     "end_time": "2025-03-23T18:46:36.552612",
     "exception": false,
     "start_time": "2025-03-23T18:46:36.531994",
     "status": "completed"
    },
    "tags": []
   },
   "outputs": [],
   "source": [
    "X_train, X_val, Y_train, Y_val = train_test_split(X, Y, test_size=0.2, random_state=5, stratify=Y)"
   ]
  },
  {
   "cell_type": "code",
   "execution_count": 8,
   "id": "8f414524",
   "metadata": {
    "execution": {
     "iopub.execute_input": "2025-03-23T18:46:36.560241Z",
     "iopub.status.busy": "2025-03-23T18:46:36.559856Z",
     "iopub.status.idle": "2025-03-23T18:46:36.565663Z",
     "shell.execute_reply": "2025-03-23T18:46:36.564627Z"
    },
    "papermill": {
     "duration": 0.011558,
     "end_time": "2025-03-23T18:46:36.567338",
     "exception": false,
     "start_time": "2025-03-23T18:46:36.555780",
     "status": "completed"
    },
    "tags": []
   },
   "outputs": [],
   "source": [
    "numerical_features = ['PS_Plus_Subscription_Duration', 'Support_Requests', 'Last_Played_Days_Ago',\n",
    "                       'Average_Monthly_Spending', 'Engagement_Score', 'Value_Perception', 'Satisfaction_Support_Ratio']\n",
    "categorical_features = ['Payment_Type']\n",
    "\n",
    "numerical_transformer = Pipeline([\n",
    "    ('imputer', SimpleImputer(strategy='median')),\n",
    "    ('scaler', StandardScaler())\n",
    "])\n",
    "\n",
    "categorical_transformer = Pipeline([\n",
    "    ('imputer', SimpleImputer(strategy='most_frequent')),\n",
    "    ('onehot', OneHotEncoder(handle_unknown='ignore'))\n",
    "])\n",
    "\n",
    "preprocessor = ColumnTransformer([\n",
    "    ('num', numerical_transformer, numerical_features),\n",
    "    ('cat', categorical_transformer, categorical_features)\n",
    "])"
   ]
  },
  {
   "cell_type": "code",
   "execution_count": 9,
   "id": "62c23bca",
   "metadata": {
    "execution": {
     "iopub.execute_input": "2025-03-23T18:46:36.574706Z",
     "iopub.status.busy": "2025-03-23T18:46:36.574290Z",
     "iopub.status.idle": "2025-03-23T18:46:36.579191Z",
     "shell.execute_reply": "2025-03-23T18:46:36.578131Z"
    },
    "papermill": {
     "duration": 0.010508,
     "end_time": "2025-03-23T18:46:36.581044",
     "exception": false,
     "start_time": "2025-03-23T18:46:36.570536",
     "status": "completed"
    },
    "tags": []
   },
   "outputs": [],
   "source": [
    "model = Pipeline([\n",
    "    ('preprocessor', preprocessor),\n",
    "    ('classifier', LogisticRegression(max_iter=500, class_weight='balanced', random_state=55))\n",
    "])"
   ]
  },
  {
   "cell_type": "code",
   "execution_count": 10,
   "id": "db90a751",
   "metadata": {
    "execution": {
     "iopub.execute_input": "2025-03-23T18:46:36.588679Z",
     "iopub.status.busy": "2025-03-23T18:46:36.588203Z",
     "iopub.status.idle": "2025-03-23T18:46:36.731429Z",
     "shell.execute_reply": "2025-03-23T18:46:36.730282Z"
    },
    "papermill": {
     "duration": 0.148818,
     "end_time": "2025-03-23T18:46:36.733105",
     "exception": false,
     "start_time": "2025-03-23T18:46:36.584287",
     "status": "completed"
    },
    "tags": []
   },
   "outputs": [
    {
     "data": {
      "text/html": [
       "<style>#sk-container-id-1 {color: black;background-color: white;}#sk-container-id-1 pre{padding: 0;}#sk-container-id-1 div.sk-toggleable {background-color: white;}#sk-container-id-1 label.sk-toggleable__label {cursor: pointer;display: block;width: 100%;margin-bottom: 0;padding: 0.3em;box-sizing: border-box;text-align: center;}#sk-container-id-1 label.sk-toggleable__label-arrow:before {content: \"▸\";float: left;margin-right: 0.25em;color: #696969;}#sk-container-id-1 label.sk-toggleable__label-arrow:hover:before {color: black;}#sk-container-id-1 div.sk-estimator:hover label.sk-toggleable__label-arrow:before {color: black;}#sk-container-id-1 div.sk-toggleable__content {max-height: 0;max-width: 0;overflow: hidden;text-align: left;background-color: #f0f8ff;}#sk-container-id-1 div.sk-toggleable__content pre {margin: 0.2em;color: black;border-radius: 0.25em;background-color: #f0f8ff;}#sk-container-id-1 input.sk-toggleable__control:checked~div.sk-toggleable__content {max-height: 200px;max-width: 100%;overflow: auto;}#sk-container-id-1 input.sk-toggleable__control:checked~label.sk-toggleable__label-arrow:before {content: \"▾\";}#sk-container-id-1 div.sk-estimator input.sk-toggleable__control:checked~label.sk-toggleable__label {background-color: #d4ebff;}#sk-container-id-1 div.sk-label input.sk-toggleable__control:checked~label.sk-toggleable__label {background-color: #d4ebff;}#sk-container-id-1 input.sk-hidden--visually {border: 0;clip: rect(1px 1px 1px 1px);clip: rect(1px, 1px, 1px, 1px);height: 1px;margin: -1px;overflow: hidden;padding: 0;position: absolute;width: 1px;}#sk-container-id-1 div.sk-estimator {font-family: monospace;background-color: #f0f8ff;border: 1px dotted black;border-radius: 0.25em;box-sizing: border-box;margin-bottom: 0.5em;}#sk-container-id-1 div.sk-estimator:hover {background-color: #d4ebff;}#sk-container-id-1 div.sk-parallel-item::after {content: \"\";width: 100%;border-bottom: 1px solid gray;flex-grow: 1;}#sk-container-id-1 div.sk-label:hover label.sk-toggleable__label {background-color: #d4ebff;}#sk-container-id-1 div.sk-serial::before {content: \"\";position: absolute;border-left: 1px solid gray;box-sizing: border-box;top: 0;bottom: 0;left: 50%;z-index: 0;}#sk-container-id-1 div.sk-serial {display: flex;flex-direction: column;align-items: center;background-color: white;padding-right: 0.2em;padding-left: 0.2em;position: relative;}#sk-container-id-1 div.sk-item {position: relative;z-index: 1;}#sk-container-id-1 div.sk-parallel {display: flex;align-items: stretch;justify-content: center;background-color: white;position: relative;}#sk-container-id-1 div.sk-item::before, #sk-container-id-1 div.sk-parallel-item::before {content: \"\";position: absolute;border-left: 1px solid gray;box-sizing: border-box;top: 0;bottom: 0;left: 50%;z-index: -1;}#sk-container-id-1 div.sk-parallel-item {display: flex;flex-direction: column;z-index: 1;position: relative;background-color: white;}#sk-container-id-1 div.sk-parallel-item:first-child::after {align-self: flex-end;width: 50%;}#sk-container-id-1 div.sk-parallel-item:last-child::after {align-self: flex-start;width: 50%;}#sk-container-id-1 div.sk-parallel-item:only-child::after {width: 0;}#sk-container-id-1 div.sk-dashed-wrapped {border: 1px dashed gray;margin: 0 0.4em 0.5em 0.4em;box-sizing: border-box;padding-bottom: 0.4em;background-color: white;}#sk-container-id-1 div.sk-label label {font-family: monospace;font-weight: bold;display: inline-block;line-height: 1.2em;}#sk-container-id-1 div.sk-label-container {text-align: center;}#sk-container-id-1 div.sk-container {/* jupyter's `normalize.less` sets `[hidden] { display: none; }` but bootstrap.min.css set `[hidden] { display: none !important; }` so we also need the `!important` here to be able to override the default hidden behavior on the sphinx rendered scikit-learn.org. See: https://github.com/scikit-learn/scikit-learn/issues/21755 */display: inline-block !important;position: relative;}#sk-container-id-1 div.sk-text-repr-fallback {display: none;}</style><div id=\"sk-container-id-1\" class=\"sk-top-container\"><div class=\"sk-text-repr-fallback\"><pre>Pipeline(steps=[(&#x27;preprocessor&#x27;,\n",
       "                 ColumnTransformer(transformers=[(&#x27;num&#x27;,\n",
       "                                                  Pipeline(steps=[(&#x27;imputer&#x27;,\n",
       "                                                                   SimpleImputer(strategy=&#x27;median&#x27;)),\n",
       "                                                                  (&#x27;scaler&#x27;,\n",
       "                                                                   StandardScaler())]),\n",
       "                                                  [&#x27;PS_Plus_Subscription_Duration&#x27;,\n",
       "                                                   &#x27;Support_Requests&#x27;,\n",
       "                                                   &#x27;Last_Played_Days_Ago&#x27;,\n",
       "                                                   &#x27;Average_Monthly_Spending&#x27;,\n",
       "                                                   &#x27;Engagement_Score&#x27;,\n",
       "                                                   &#x27;Value_Perception&#x27;,\n",
       "                                                   &#x27;Satisfaction_Support_Ratio&#x27;]),\n",
       "                                                 (&#x27;cat&#x27;,\n",
       "                                                  Pipeline(steps=[(&#x27;imputer&#x27;,\n",
       "                                                                   SimpleImputer(strategy=&#x27;most_frequent&#x27;)),\n",
       "                                                                  (&#x27;onehot&#x27;,\n",
       "                                                                   OneHotEncoder(handle_unknown=&#x27;ignore&#x27;))]),\n",
       "                                                  [&#x27;Payment_Type&#x27;])])),\n",
       "                (&#x27;classifier&#x27;,\n",
       "                 LogisticRegression(class_weight=&#x27;balanced&#x27;, max_iter=500,\n",
       "                                    random_state=55))])</pre><b>In a Jupyter environment, please rerun this cell to show the HTML representation or trust the notebook. <br />On GitHub, the HTML representation is unable to render, please try loading this page with nbviewer.org.</b></div><div class=\"sk-container\" hidden><div class=\"sk-item sk-dashed-wrapped\"><div class=\"sk-label-container\"><div class=\"sk-label sk-toggleable\"><input class=\"sk-toggleable__control sk-hidden--visually\" id=\"sk-estimator-id-1\" type=\"checkbox\" ><label for=\"sk-estimator-id-1\" class=\"sk-toggleable__label sk-toggleable__label-arrow\">Pipeline</label><div class=\"sk-toggleable__content\"><pre>Pipeline(steps=[(&#x27;preprocessor&#x27;,\n",
       "                 ColumnTransformer(transformers=[(&#x27;num&#x27;,\n",
       "                                                  Pipeline(steps=[(&#x27;imputer&#x27;,\n",
       "                                                                   SimpleImputer(strategy=&#x27;median&#x27;)),\n",
       "                                                                  (&#x27;scaler&#x27;,\n",
       "                                                                   StandardScaler())]),\n",
       "                                                  [&#x27;PS_Plus_Subscription_Duration&#x27;,\n",
       "                                                   &#x27;Support_Requests&#x27;,\n",
       "                                                   &#x27;Last_Played_Days_Ago&#x27;,\n",
       "                                                   &#x27;Average_Monthly_Spending&#x27;,\n",
       "                                                   &#x27;Engagement_Score&#x27;,\n",
       "                                                   &#x27;Value_Perception&#x27;,\n",
       "                                                   &#x27;Satisfaction_Support_Ratio&#x27;]),\n",
       "                                                 (&#x27;cat&#x27;,\n",
       "                                                  Pipeline(steps=[(&#x27;imputer&#x27;,\n",
       "                                                                   SimpleImputer(strategy=&#x27;most_frequent&#x27;)),\n",
       "                                                                  (&#x27;onehot&#x27;,\n",
       "                                                                   OneHotEncoder(handle_unknown=&#x27;ignore&#x27;))]),\n",
       "                                                  [&#x27;Payment_Type&#x27;])])),\n",
       "                (&#x27;classifier&#x27;,\n",
       "                 LogisticRegression(class_weight=&#x27;balanced&#x27;, max_iter=500,\n",
       "                                    random_state=55))])</pre></div></div></div><div class=\"sk-serial\"><div class=\"sk-item sk-dashed-wrapped\"><div class=\"sk-label-container\"><div class=\"sk-label sk-toggleable\"><input class=\"sk-toggleable__control sk-hidden--visually\" id=\"sk-estimator-id-2\" type=\"checkbox\" ><label for=\"sk-estimator-id-2\" class=\"sk-toggleable__label sk-toggleable__label-arrow\">preprocessor: ColumnTransformer</label><div class=\"sk-toggleable__content\"><pre>ColumnTransformer(transformers=[(&#x27;num&#x27;,\n",
       "                                 Pipeline(steps=[(&#x27;imputer&#x27;,\n",
       "                                                  SimpleImputer(strategy=&#x27;median&#x27;)),\n",
       "                                                 (&#x27;scaler&#x27;, StandardScaler())]),\n",
       "                                 [&#x27;PS_Plus_Subscription_Duration&#x27;,\n",
       "                                  &#x27;Support_Requests&#x27;, &#x27;Last_Played_Days_Ago&#x27;,\n",
       "                                  &#x27;Average_Monthly_Spending&#x27;,\n",
       "                                  &#x27;Engagement_Score&#x27;, &#x27;Value_Perception&#x27;,\n",
       "                                  &#x27;Satisfaction_Support_Ratio&#x27;]),\n",
       "                                (&#x27;cat&#x27;,\n",
       "                                 Pipeline(steps=[(&#x27;imputer&#x27;,\n",
       "                                                  SimpleImputer(strategy=&#x27;most_frequent&#x27;)),\n",
       "                                                 (&#x27;onehot&#x27;,\n",
       "                                                  OneHotEncoder(handle_unknown=&#x27;ignore&#x27;))]),\n",
       "                                 [&#x27;Payment_Type&#x27;])])</pre></div></div></div><div class=\"sk-parallel\"><div class=\"sk-parallel-item\"><div class=\"sk-item\"><div class=\"sk-label-container\"><div class=\"sk-label sk-toggleable\"><input class=\"sk-toggleable__control sk-hidden--visually\" id=\"sk-estimator-id-3\" type=\"checkbox\" ><label for=\"sk-estimator-id-3\" class=\"sk-toggleable__label sk-toggleable__label-arrow\">num</label><div class=\"sk-toggleable__content\"><pre>[&#x27;PS_Plus_Subscription_Duration&#x27;, &#x27;Support_Requests&#x27;, &#x27;Last_Played_Days_Ago&#x27;, &#x27;Average_Monthly_Spending&#x27;, &#x27;Engagement_Score&#x27;, &#x27;Value_Perception&#x27;, &#x27;Satisfaction_Support_Ratio&#x27;]</pre></div></div></div><div class=\"sk-serial\"><div class=\"sk-item\"><div class=\"sk-serial\"><div class=\"sk-item\"><div class=\"sk-estimator sk-toggleable\"><input class=\"sk-toggleable__control sk-hidden--visually\" id=\"sk-estimator-id-4\" type=\"checkbox\" ><label for=\"sk-estimator-id-4\" class=\"sk-toggleable__label sk-toggleable__label-arrow\">SimpleImputer</label><div class=\"sk-toggleable__content\"><pre>SimpleImputer(strategy=&#x27;median&#x27;)</pre></div></div></div><div class=\"sk-item\"><div class=\"sk-estimator sk-toggleable\"><input class=\"sk-toggleable__control sk-hidden--visually\" id=\"sk-estimator-id-5\" type=\"checkbox\" ><label for=\"sk-estimator-id-5\" class=\"sk-toggleable__label sk-toggleable__label-arrow\">StandardScaler</label><div class=\"sk-toggleable__content\"><pre>StandardScaler()</pre></div></div></div></div></div></div></div></div><div class=\"sk-parallel-item\"><div class=\"sk-item\"><div class=\"sk-label-container\"><div class=\"sk-label sk-toggleable\"><input class=\"sk-toggleable__control sk-hidden--visually\" id=\"sk-estimator-id-6\" type=\"checkbox\" ><label for=\"sk-estimator-id-6\" class=\"sk-toggleable__label sk-toggleable__label-arrow\">cat</label><div class=\"sk-toggleable__content\"><pre>[&#x27;Payment_Type&#x27;]</pre></div></div></div><div class=\"sk-serial\"><div class=\"sk-item\"><div class=\"sk-serial\"><div class=\"sk-item\"><div class=\"sk-estimator sk-toggleable\"><input class=\"sk-toggleable__control sk-hidden--visually\" id=\"sk-estimator-id-7\" type=\"checkbox\" ><label for=\"sk-estimator-id-7\" class=\"sk-toggleable__label sk-toggleable__label-arrow\">SimpleImputer</label><div class=\"sk-toggleable__content\"><pre>SimpleImputer(strategy=&#x27;most_frequent&#x27;)</pre></div></div></div><div class=\"sk-item\"><div class=\"sk-estimator sk-toggleable\"><input class=\"sk-toggleable__control sk-hidden--visually\" id=\"sk-estimator-id-8\" type=\"checkbox\" ><label for=\"sk-estimator-id-8\" class=\"sk-toggleable__label sk-toggleable__label-arrow\">OneHotEncoder</label><div class=\"sk-toggleable__content\"><pre>OneHotEncoder(handle_unknown=&#x27;ignore&#x27;)</pre></div></div></div></div></div></div></div></div></div></div><div class=\"sk-item\"><div class=\"sk-estimator sk-toggleable\"><input class=\"sk-toggleable__control sk-hidden--visually\" id=\"sk-estimator-id-9\" type=\"checkbox\" ><label for=\"sk-estimator-id-9\" class=\"sk-toggleable__label sk-toggleable__label-arrow\">LogisticRegression</label><div class=\"sk-toggleable__content\"><pre>LogisticRegression(class_weight=&#x27;balanced&#x27;, max_iter=500, random_state=55)</pre></div></div></div></div></div></div></div>"
      ],
      "text/plain": [
       "Pipeline(steps=[('preprocessor',\n",
       "                 ColumnTransformer(transformers=[('num',\n",
       "                                                  Pipeline(steps=[('imputer',\n",
       "                                                                   SimpleImputer(strategy='median')),\n",
       "                                                                  ('scaler',\n",
       "                                                                   StandardScaler())]),\n",
       "                                                  ['PS_Plus_Subscription_Duration',\n",
       "                                                   'Support_Requests',\n",
       "                                                   'Last_Played_Days_Ago',\n",
       "                                                   'Average_Monthly_Spending',\n",
       "                                                   'Engagement_Score',\n",
       "                                                   'Value_Perception',\n",
       "                                                   'Satisfaction_Support_Ratio']),\n",
       "                                                 ('cat',\n",
       "                                                  Pipeline(steps=[('imputer',\n",
       "                                                                   SimpleImputer(strategy='most_frequent')),\n",
       "                                                                  ('onehot',\n",
       "                                                                   OneHotEncoder(handle_unknown='ignore'))]),\n",
       "                                                  ['Payment_Type'])])),\n",
       "                ('classifier',\n",
       "                 LogisticRegression(class_weight='balanced', max_iter=500,\n",
       "                                    random_state=55))])"
      ]
     },
     "execution_count": 10,
     "metadata": {},
     "output_type": "execute_result"
    }
   ],
   "source": [
    "model.fit(X_train, Y_train)"
   ]
  },
  {
   "cell_type": "code",
   "execution_count": 11,
   "id": "ba4be23c",
   "metadata": {
    "execution": {
     "iopub.execute_input": "2025-03-23T18:46:36.741602Z",
     "iopub.status.busy": "2025-03-23T18:46:36.741198Z",
     "iopub.status.idle": "2025-03-23T18:46:36.763895Z",
     "shell.execute_reply": "2025-03-23T18:46:36.762407Z"
    },
    "papermill": {
     "duration": 0.029171,
     "end_time": "2025-03-23T18:46:36.765913",
     "exception": false,
     "start_time": "2025-03-23T18:46:36.736742",
     "status": "completed"
    },
    "tags": []
   },
   "outputs": [
    {
     "name": "stdout",
     "output_type": "stream",
     "text": [
      "Predictions saved to submission.csv\n"
     ]
    }
   ],
   "source": [
    "X_test_processed = model.predict(test_data)\n",
    "\n",
    "submission = pd.DataFrame({'User_ID': User_ID, 'Subscription_Canceled': X_test_processed})\n",
    "submission.to_csv('submission.csv', index=False)\n",
    "print(\"Predictions saved to submission.csv\")"
   ]
  }
 ],
 "metadata": {
  "kaggle": {
   "accelerator": "none",
   "dataSources": [
    {
     "databundleVersionId": 11449578,
     "sourceId": 96329,
     "sourceType": "competition"
    }
   ],
   "dockerImageVersionId": 30918,
   "isGpuEnabled": false,
   "isInternetEnabled": false,
   "language": "python",
   "sourceType": "notebook"
  },
  "kernelspec": {
   "display_name": "Python 3",
   "language": "python",
   "name": "python3"
  },
  "language_info": {
   "codemirror_mode": {
    "name": "ipython",
    "version": 3
   },
   "file_extension": ".py",
   "mimetype": "text/x-python",
   "name": "python",
   "nbconvert_exporter": "python",
   "pygments_lexer": "ipython3",
   "version": "3.10.12"
  },
  "papermill": {
   "default_parameters": {},
   "duration": 6.772444,
   "end_time": "2025-03-23T18:46:37.492179",
   "environment_variables": {},
   "exception": null,
   "input_path": "__notebook__.ipynb",
   "output_path": "__notebook__.ipynb",
   "parameters": {},
   "start_time": "2025-03-23T18:46:30.719735",
   "version": "2.6.0"
  }
 },
 "nbformat": 4,
 "nbformat_minor": 5
}
